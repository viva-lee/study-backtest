{
 "cells": [
  {
   "cell_type": "code",
   "execution_count": 1,
   "metadata": {},
   "outputs": [],
   "source": [
    "%matplotlib inline\n",
    "import zipline\n",
    "from zipline.api import order_target_percent, symbol, schedule_function, date_rules, time_rules\n",
    "from datetime import datetime\n",
    "import pytz\n",
    "from matplotlib import pyplot as plt\n",
    "import pandas as pd"
   ]
  },
  {
   "cell_type": "code",
   "execution_count": 2,
   "metadata": {},
   "outputs": [],
   "source": [
    "def initialize(context):\n",
    "    context.securities = {\n",
    "        'SPY': 0.25, \n",
    "        'TLT': 0.3, \n",
    "        'IEF': 0.3, \n",
    "        'GLD': 0.075, \n",
    "        'DBC': 0.075\n",
    "    }\n",
    "    \n",
    "    schedule_function(rebalance, date_rules.month_start(), time_rules.market_open())\n",
    "    \n",
    "def rebalance(context, data):\n",
    "    for sec, weight in context.securities.items():\n",
    "        sym = symbol(sec)\n",
    "        if data.can_trade(sym):\n",
    "            order_target_percent(sym, weight)"
   ]
  },
  {
   "cell_type": "code",
   "execution_count": 3,
   "metadata": {},
   "outputs": [
    {
     "ename": "UnknownBundle",
     "evalue": "No bundle registered with the name 'ac_equities_db'",
     "output_type": "error",
     "traceback": [
      "\u001b[1;31m---------------------------------------------------------------------------\u001b[0m",
      "\u001b[1;31mUnknownBundle\u001b[0m                             Traceback (most recent call last)",
      "Cell \u001b[1;32mIn[3], line 4\u001b[0m\n\u001b[0;32m      1\u001b[0m start \u001b[39m=\u001b[39m datetime(\u001b[39m1997\u001b[39m, \u001b[39m1\u001b[39m, \u001b[39m1\u001b[39m, \u001b[39m8\u001b[39m, \u001b[39m15\u001b[39m, \u001b[39m12\u001b[39m, \u001b[39m0\u001b[39m, pytz\u001b[39m.\u001b[39mUTC)\n\u001b[0;32m      2\u001b[0m end \u001b[39m=\u001b[39m datetime(\u001b[39m2018\u001b[39m, \u001b[39m12\u001b[39m, \u001b[39m31\u001b[39m, \u001b[39m8\u001b[39m, \u001b[39m15\u001b[39m, \u001b[39m12\u001b[39m, \u001b[39m0\u001b[39m, pytz\u001b[39m.\u001b[39mUTC)\n\u001b[1;32m----> 4\u001b[0m result \u001b[39m=\u001b[39m zipline\u001b[39m.\u001b[39;49mrun_algorithm(\n\u001b[0;32m      5\u001b[0m     start\u001b[39m=\u001b[39;49mstart,\n\u001b[0;32m      6\u001b[0m     end\u001b[39m=\u001b[39;49mend,\n\u001b[0;32m      7\u001b[0m     initialize\u001b[39m=\u001b[39;49minitialize,\n\u001b[0;32m      8\u001b[0m     capital_base\u001b[39m=\u001b[39;49m\u001b[39m100000\u001b[39;49m,\n\u001b[0;32m      9\u001b[0m     data_frequency \u001b[39m=\u001b[39;49m \u001b[39m'\u001b[39;49m\u001b[39mdaily\u001b[39;49m\u001b[39m'\u001b[39;49m,\n\u001b[0;32m     10\u001b[0m     bundle\u001b[39m=\u001b[39;49m\u001b[39m'\u001b[39;49m\u001b[39mac_equities_db\u001b[39;49m\u001b[39m'\u001b[39;49m\n\u001b[0;32m     11\u001b[0m     )\n",
      "File \u001b[1;32mc:\\Users\\phoen\\.conda\\envs\\vivatech\\lib\\site-packages\\zipline\\utils\\run_algo.py:397\u001b[0m, in \u001b[0;36mrun_algorithm\u001b[1;34m(start, end, initialize, capital_base, handle_data, before_trading_start, analyze, data_frequency, bundle, bundle_timestamp, trading_calendar, metrics_set, benchmark_returns, default_extension, extensions, strict_extensions, environ, custom_loader, blotter)\u001b[0m\n\u001b[0;32m    393\u001b[0m load_extensions(default_extension, extensions, strict_extensions, environ)\n\u001b[0;32m    395\u001b[0m benchmark_spec \u001b[39m=\u001b[39m BenchmarkSpec\u001b[39m.\u001b[39mfrom_returns(benchmark_returns)\n\u001b[1;32m--> 397\u001b[0m \u001b[39mreturn\u001b[39;00m _run(\n\u001b[0;32m    398\u001b[0m     handle_data\u001b[39m=\u001b[39;49mhandle_data,\n\u001b[0;32m    399\u001b[0m     initialize\u001b[39m=\u001b[39;49minitialize,\n\u001b[0;32m    400\u001b[0m     before_trading_start\u001b[39m=\u001b[39;49mbefore_trading_start,\n\u001b[0;32m    401\u001b[0m     analyze\u001b[39m=\u001b[39;49manalyze,\n\u001b[0;32m    402\u001b[0m     algofile\u001b[39m=\u001b[39;49m\u001b[39mNone\u001b[39;49;00m,\n\u001b[0;32m    403\u001b[0m     algotext\u001b[39m=\u001b[39;49m\u001b[39mNone\u001b[39;49;00m,\n\u001b[0;32m    404\u001b[0m     defines\u001b[39m=\u001b[39;49m(),\n\u001b[0;32m    405\u001b[0m     data_frequency\u001b[39m=\u001b[39;49mdata_frequency,\n\u001b[0;32m    406\u001b[0m     capital_base\u001b[39m=\u001b[39;49mcapital_base,\n\u001b[0;32m    407\u001b[0m     bundle\u001b[39m=\u001b[39;49mbundle,\n\u001b[0;32m    408\u001b[0m     bundle_timestamp\u001b[39m=\u001b[39;49mbundle_timestamp,\n\u001b[0;32m    409\u001b[0m     start\u001b[39m=\u001b[39;49mstart,\n\u001b[0;32m    410\u001b[0m     end\u001b[39m=\u001b[39;49mend,\n\u001b[0;32m    411\u001b[0m     output\u001b[39m=\u001b[39;49mos\u001b[39m.\u001b[39;49mdevnull,\n\u001b[0;32m    412\u001b[0m     trading_calendar\u001b[39m=\u001b[39;49mtrading_calendar,\n\u001b[0;32m    413\u001b[0m     print_algo\u001b[39m=\u001b[39;49m\u001b[39mFalse\u001b[39;49;00m,\n\u001b[0;32m    414\u001b[0m     metrics_set\u001b[39m=\u001b[39;49mmetrics_set,\n\u001b[0;32m    415\u001b[0m     local_namespace\u001b[39m=\u001b[39;49m\u001b[39mFalse\u001b[39;49;00m,\n\u001b[0;32m    416\u001b[0m     environ\u001b[39m=\u001b[39;49menviron,\n\u001b[0;32m    417\u001b[0m     blotter\u001b[39m=\u001b[39;49mblotter,\n\u001b[0;32m    418\u001b[0m     custom_loader\u001b[39m=\u001b[39;49mcustom_loader,\n\u001b[0;32m    419\u001b[0m     benchmark_spec\u001b[39m=\u001b[39;49mbenchmark_spec,\n\u001b[0;32m    420\u001b[0m )\n",
      "File \u001b[1;32mc:\\Users\\phoen\\.conda\\envs\\vivatech\\lib\\site-packages\\zipline\\utils\\run_algo.py:93\u001b[0m, in \u001b[0;36m_run\u001b[1;34m(handle_data, initialize, before_trading_start, analyze, algofile, algotext, defines, data_frequency, capital_base, bundle, bundle_timestamp, start, end, output, trading_calendar, print_algo, metrics_set, local_namespace, environ, blotter, custom_loader, benchmark_spec)\u001b[0m\n\u001b[0;32m     64\u001b[0m \u001b[39mdef\u001b[39;00m \u001b[39m_run\u001b[39m(\n\u001b[0;32m     65\u001b[0m     handle_data,\n\u001b[0;32m     66\u001b[0m     initialize,\n\u001b[1;32m   (...)\u001b[0m\n\u001b[0;32m     86\u001b[0m     benchmark_spec,\n\u001b[0;32m     87\u001b[0m ):\n\u001b[0;32m     88\u001b[0m \u001b[39m    \u001b[39m\u001b[39m\"\"\"Run a backtest for the given algorithm.\u001b[39;00m\n\u001b[0;32m     89\u001b[0m \n\u001b[0;32m     90\u001b[0m \u001b[39m    This is shared between the cli and :func:`zipline.run_algo`.\u001b[39;00m\n\u001b[0;32m     91\u001b[0m \u001b[39m    \"\"\"\u001b[39;00m\n\u001b[1;32m---> 93\u001b[0m     bundle_data \u001b[39m=\u001b[39m bundles\u001b[39m.\u001b[39;49mload(\n\u001b[0;32m     94\u001b[0m         bundle,\n\u001b[0;32m     95\u001b[0m         environ,\n\u001b[0;32m     96\u001b[0m         bundle_timestamp,\n\u001b[0;32m     97\u001b[0m     )\n\u001b[0;32m     99\u001b[0m     \u001b[39mif\u001b[39;00m trading_calendar \u001b[39mis\u001b[39;00m \u001b[39mNone\u001b[39;00m:\n\u001b[0;32m    100\u001b[0m         trading_calendar \u001b[39m=\u001b[39m get_calendar(\u001b[39m\"\u001b[39m\u001b[39mXNYS\u001b[39m\u001b[39m\"\u001b[39m)\n",
      "File \u001b[1;32mc:\\Users\\phoen\\.conda\\envs\\vivatech\\lib\\site-packages\\zipline\\data\\bundles\\core.py:532\u001b[0m, in \u001b[0;36m_make_bundle_core.<locals>.load\u001b[1;34m(name, environ, timestamp)\u001b[0m\n\u001b[0;32m    530\u001b[0m \u001b[39mif\u001b[39;00m timestamp \u001b[39mis\u001b[39;00m \u001b[39mNone\u001b[39;00m:\n\u001b[0;32m    531\u001b[0m     timestamp \u001b[39m=\u001b[39m pd\u001b[39m.\u001b[39mTimestamp\u001b[39m.\u001b[39mutcnow()\n\u001b[1;32m--> 532\u001b[0m timestr \u001b[39m=\u001b[39m most_recent_data(name, timestamp, environ\u001b[39m=\u001b[39;49menviron)\n\u001b[0;32m    533\u001b[0m \u001b[39mreturn\u001b[39;00m BundleData(\n\u001b[0;32m    534\u001b[0m     asset_finder\u001b[39m=\u001b[39mAssetFinder(\n\u001b[0;32m    535\u001b[0m         asset_db_path(name, timestr, environ\u001b[39m=\u001b[39menviron),\n\u001b[1;32m   (...)\u001b[0m\n\u001b[0;32m    545\u001b[0m     ),\n\u001b[0;32m    546\u001b[0m )\n",
      "File \u001b[1;32mc:\\Users\\phoen\\.conda\\envs\\vivatech\\lib\\site-packages\\zipline\\data\\bundles\\core.py:485\u001b[0m, in \u001b[0;36m_make_bundle_core.<locals>.most_recent_data\u001b[1;34m(bundle_name, timestamp, environ)\u001b[0m\n\u001b[0;32m    472\u001b[0m \u001b[39m\u001b[39m\u001b[39m\"\"\"Get the path to the most recent data after ``date``for the\u001b[39;00m\n\u001b[0;32m    473\u001b[0m \u001b[39mgiven bundle.\u001b[39;00m\n\u001b[0;32m    474\u001b[0m \n\u001b[1;32m   (...)\u001b[0m\n\u001b[0;32m    482\u001b[0m \u001b[39m    An environment dict to forward to zipline_root.\u001b[39;00m\n\u001b[0;32m    483\u001b[0m \u001b[39m\"\"\"\u001b[39;00m\n\u001b[0;32m    484\u001b[0m \u001b[39mif\u001b[39;00m bundle_name \u001b[39mnot\u001b[39;00m \u001b[39min\u001b[39;00m bundles:\n\u001b[1;32m--> 485\u001b[0m     \u001b[39mraise\u001b[39;00m UnknownBundle(bundle_name)\n\u001b[0;32m    487\u001b[0m \u001b[39mtry\u001b[39;00m:\n\u001b[0;32m    488\u001b[0m     candidates \u001b[39m=\u001b[39m os\u001b[39m.\u001b[39mlistdir(\n\u001b[0;32m    489\u001b[0m         pth\u001b[39m.\u001b[39mdata_path([bundle_name], environ\u001b[39m=\u001b[39menviron),\n\u001b[0;32m    490\u001b[0m     )\n",
      "\u001b[1;31mUnknownBundle\u001b[0m: No bundle registered with the name 'ac_equities_db'"
     ]
    }
   ],
   "source": [
    "start = datetime(1997, 1, 1, 8, 15, 12, 0, pytz.UTC)\n",
    "end = datetime(2018, 12, 31, 8, 15, 12, 0, pytz.UTC)\n",
    "\n",
    "result = zipline.run_algorithm(\n",
    "    start=start,\n",
    "    end=end,\n",
    "    initialize=initialize,\n",
    "    capital_base=100000,\n",
    "    data_frequency = 'daily',\n",
    "    bundle='ac_equities_db' # 맞춤형 번들을 구축해야 함\n",
    "    )"
   ]
  }
 ],
 "metadata": {
  "kernelspec": {
   "display_name": "vivatech",
   "language": "python",
   "name": "python3"
  },
  "language_info": {
   "codemirror_mode": {
    "name": "ipython",
    "version": 3
   },
   "file_extension": ".py",
   "mimetype": "text/x-python",
   "name": "python",
   "nbconvert_exporter": "python",
   "pygments_lexer": "ipython3",
   "version": "3.8.17"
  },
  "orig_nbformat": 4
 },
 "nbformat": 4,
 "nbformat_minor": 2
}
